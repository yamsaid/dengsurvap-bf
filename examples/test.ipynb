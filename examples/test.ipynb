{
 "cells": [
  {
   "cell_type": "markdown",
   "id": "5e90307b",
   "metadata": {},
   "source": [
    "---\n",
    "# Exemple d'utilisation du package dengsurvap-bf\n",
    "---"
   ]
  },
  {
   "cell_type": "markdown",
   "id": "5397e722",
   "metadata": {},
   "source": [
    "## Installation ( en phase de test donc sur TestPyPi)"
   ]
  },
  {
   "cell_type": "code",
   "execution_count": null,
   "id": "b1379c35",
   "metadata": {},
   "outputs": [],
   "source": [
    "#! pip uninstall dengsurvap-bf "
   ]
  },
  {
   "cell_type": "code",
   "execution_count": null,
   "id": "2830ad0e",
   "metadata": {},
   "outputs": [],
   "source": [
    "! pip install --index-url https://test.pypi.org/simple/ dengsurvap-bf==0.2.3"
   ]
  },
  {
   "cell_type": "markdown",
   "id": "30f87c5c",
   "metadata": {},
   "source": [
    "## Importation "
   ]
  },
  {
   "cell_type": "code",
   "execution_count": null,
   "id": "47dddae9",
   "metadata": {},
   "outputs": [],
   "source": [
    "from dengsurvab import AppiClient"
   ]
  },
  {
   "cell_type": "markdown",
   "id": "afdb5d0b",
   "metadata": {},
   "source": [
    "## Configuration "
   ]
  },
  {
   "cell_type": "code",
   "execution_count": null,
   "id": "31ae2bd3",
   "metadata": {},
   "outputs": [],
   "source": [
    "# cl = AppiClient(base_url=\"https://dengsurvab.com/api/v1\", api_key=\"your_api_key_here\")\n",
    "# l'url de base et la clé API sont optionnels, mais recommandés pour une utilisation optimale.\n",
    "# cl = AppiClient(base_url=\"https://dengsurvab.com/api/v1\") # si vous ne voulez pas utiliser de clé API\n",
    "# cl = AppiClient(api_key=\"your_api_key_here\") # si vous ne voulez pas utiliser d'url de base\n",
    "# cl = AppiClient() # si vous voulez utiliser les valeurs par défaut (https://dengsurvab.com/api/v1 et aucune clé API)\n",
    "cl = AppiClient()  # Utilisation des valeurs par défaut\n",
    "\n",
    "# Authentification\n",
    "#cl.authenticate(email=\"votre mail\", password=\"votre mot de passe\") vous devez avoir un compte sur la plateforme pour utiliser cette fonction\n",
    "# cl.authenticate(token=\"votre token\") vous devez avoir un token pour utiliser cette fonction\n",
    "# L'authentification est optionnelle, mais recommandée pour une utilisation optimale. En effet, elle permet d'accéder à des fonctionnalités avancées et de personnaliser l'expérience utilisateur.\n",
    "# cl.authenticate() # si vous voulez utiliser les valeurs par défaut (aucune authentification) dans ce cas vous pouvez utiliser les fonctions de base de l'API sans authentification\n",
    "# cl.authenticate(email=\"votre mail\", password=\"votre mot de passe\") # si vous voulez utiliser une authentification par email et mot de passe\n",
    "# cl.authenticate(token=\"votre token\") # si vous voulez utiliser une authentification par token\n",
    "# cl.from_env() # si vous voulez utiliser une authentification par variables d'environnement (API_KEY, BASE_URL, EMAIL, PASSWORD, TOKEN)\n",
    "#help(cl)  # Affiche l'aide de l'objet cl\n"
   ]
  },
  {
   "cell_type": "markdown",
   "id": "df575e4b",
   "metadata": {},
   "source": [
    "---\n",
    "#### #Verifier les statistiques de la base\n"
   ]
  },
  {
   "cell_type": "code",
   "execution_count": null,
   "id": "2efc6a88",
   "metadata": {},
   "outputs": [],
   "source": [
    "cl.get_stats()  # Récupère les statistiques de la base de données"
   ]
  },
  {
   "cell_type": "markdown",
   "id": "a99cd53f",
   "metadata": {},
   "source": [
    "---\n",
    "#### #Verifier les regions existantes dans la base"
   ]
  },
  {
   "cell_type": "code",
   "execution_count": null,
   "id": "46e9f254",
   "metadata": {},
   "outputs": [],
   "source": [
    "cl.get_regions()  # Récupère les régions existantes dans la base de données"
   ]
  },
  {
   "cell_type": "markdown",
   "id": "400e1790",
   "metadata": {},
   "source": [
    "---\n",
    "#### #Verifier les districts existants"
   ]
  },
  {
   "cell_type": "code",
   "execution_count": null,
   "id": "1e26fbcb",
   "metadata": {},
   "outputs": [],
   "source": [
    "cl.get_districts()  # Récupère les districts existants dans la base de données\n",
    "# cl.get_districts(region=\"region_name\")  # Récupère les districts d'une région spécifique"
   ]
  },
  {
   "cell_type": "markdown",
   "id": "5abbc954",
   "metadata": {},
   "source": [
    "---\n",
    "#### #Selectionner vos données"
   ]
  },
  {
   "cell_type": "markdown",
   "id": "3c62764d",
   "metadata": {},
   "source": [
    "##### Nous vous recommandons de toujours selectionner vos données car la selection pour chaque operation peux ralentir vos requetes"
   ]
  },
  {
   "cell_type": "code",
   "execution_count": null,
   "id": "2e241905",
   "metadata": {},
   "outputs": [],
   "source": [
    "#df = cl.data(district=\"district_name\", region=\"region_name\")  # Récupère les données d'un district ou d'une région spécifique\n",
    "#df = cl.data(district=\"district_name\")  # Récupère les données d'un district spécifique\n",
    "#df = cl.data(region=\"region_name\")  # Récupère les données d'une région spécifique\n",
    "#df = cl.data(date_debut=\"2023-01-01\", date_fin=\"2023-12-31\")  # Récupère les données entre deux dates\n",
    "#df = cl.data(limit= 100)  # Récupère les 100 premières données de la base\n",
    "#df = cl.data(full=True)  # Récupère toutes les données de la base : ! Attention, cette opération peut prendre du temps et consommer beaucoup de mémoire, il est deconseil l'utiliser si vous n'avez pas besoin de toutes les données.\n",
    "\n",
    "df = cl.data(date_debut=\"2025-01-01\", date_fin=\"2025-07-11\")  # Récupère les données de cette année"
   ]
  },
  {
   "cell_type": "code",
   "execution_count": null,
   "id": "47b5c209",
   "metadata": {},
   "outputs": [],
   "source": [
    "# df est un DataFrame pandas, vous pouvez l'utiliser comme n'importe quel DataFrame pandas\n",
    "# df.shape  # Affiche la forme du DataFrame\n",
    "# Par exemple, vous pouvez afficher les 5 premières lignes du DataFrame\n",
    "# df.head()  # Affiche les 5 premières lignes du DataFrame\n",
    "# Vous pouvez également afficher les informations sur le DataFrame\n",
    "# df.info()  # Affiche les informations sur le DataFrame\n",
    "# Vous pouvez afficher les statistiques descriptives du DataFrame\n",
    "# df.describe()  # Affiche les statistiques descriptives du DataFrame\n",
    "# Vous pouvez afficher les colonnes du DataFrame\n",
    "# df.columns  # Affiche les colonnes du DataFrame\n",
    "# Vous pouvez afficher les types de données des colonnes du DataFrame\n",
    "# df.dtypes  # Affiche les types de données des colonnes du DataFrame\n",
    "# Vous pouvez afficher le nombre de valeurs manquantes par colonne\n",
    "# df.isnull().sum()  # Affiche le nombre de valeurs manquantes par\n",
    "# Vous pouvez afficher le nombre de valeurs uniques par colonne\n",
    "# df.nunique()  # Affiche le nombre de valeurs uniques par colonne\n",
    "# Vous pouvez afficher les valeurs uniques d'une colonne spécifique\n",
    "# df['column_name'].unique()  # Affiche les valeurs uniques d'une colonne spécifique\n",
    "# Vous pouvez afficher le nombre de valeurs uniques d'une colonne spécifique\n",
    "# df['column_name'].value_counts()  # Affiche le nombre de valeurs uniques d'une colonne spécifique\n",
    "# Vous pouvez également effectuer des opérations de filtrage, de tri, de regroupement, etc\n"
   ]
  },
  {
   "cell_type": "code",
   "execution_count": null,
   "id": "bed5beca",
   "metadata": {},
   "outputs": [],
   "source": [
    "df.head()  # Affiche les 5 premières lignes du DataFrame"
   ]
  },
  {
   "cell_type": "code",
   "execution_count": null,
   "id": "046aae4e",
   "metadata": {},
   "outputs": [],
   "source": [
    "df.info()  # Affiche les informations sur le DataFrame"
   ]
  },
  {
   "cell_type": "code",
   "execution_count": null,
   "id": "7acb8347",
   "metadata": {},
   "outputs": [],
   "source": [
    "df.describe()  # Affiche les statistiques descriptives du DataFrame"
   ]
  },
  {
   "cell_type": "code",
   "execution_count": null,
   "id": "2168aee3",
   "metadata": {},
   "outputs": [],
   "source": [
    "df.columns  # Affiche les colonnes du DataFrame"
   ]
  },
  {
   "cell_type": "markdown",
   "id": "9f461a2c",
   "metadata": {},
   "source": [
    "---\n",
    "#### #Resumer les données"
   ]
  },
  {
   "cell_type": "code",
   "execution_count": null,
   "id": "13ed1327",
   "metadata": {},
   "outputs": [],
   "source": [
    "cl.resumer(df)  # Résume les données du DataFrame"
   ]
  },
  {
   "cell_type": "code",
   "execution_count": null,
   "id": "eac22385",
   "metadata": {},
   "outputs": [],
   "source": [
    "# cl.resumer(df, full=True)  # Résume les données de la base . Deconseillé !\n",
    "# cl.resumer(date_debut=\"2023-01-01\", date_fin=\"2023-12-31\")  # Résume les données entre deux dates\n",
    "# cl.resumer(district=\"district_name\", region=\"region_name\")  # Résume les données d'un district ou d'une région spécifique\n"
   ]
  },
  {
   "cell_type": "markdown",
   "id": "bc113f77",
   "metadata": {},
   "source": [
    "---\n",
    "#### #Decrire avec des graphiques descriptives pour chaque variables"
   ]
  },
  {
   "cell_type": "code",
   "execution_count": null,
   "id": "0947c242",
   "metadata": {},
   "outputs": [],
   "source": [
    "#cl.graph_desc(df)  # Affiche les graphiques descriptifs pour chaque variable du DataFrame\n",
    "# cl.graph_desc(df, save_dir=\"path/to/save/dir\")  # Enregistre les graphiques descriptifs dans un répertoire spécifique\n",
    "cl.graph_desc(df)  # Enregistre les graphiques descriptifs dans le répertoire spécifié"
   ]
  },
  {
   "cell_type": "markdown",
   "id": "99b15e5c",
   "metadata": {},
   "source": [
    "---\n",
    "#### #Analyser l'evolution\n"
   ]
  },
  {
   "cell_type": "code",
   "execution_count": null,
   "id": "e429823a",
   "metadata": {},
   "outputs": [],
   "source": [
    "#cl.evolution(df)  # Affiche l'évolution des données du DataFrame\n",
    "# cl.evolution(df, save_dir=\"path/to/save/dir\")  # Enregistre l'évolution des données dans un répertoire spécifique\n",
    "# cl.evolution(district=\"district_name\", region=\"region_name\")  # Affiche l'évolution des données d'un district ou d'une région spécifique\n",
    "# cl.evolution(date_debut=\"2023-01-01\", date_fin=\"2023-12-31\")  # Affiche l'évolution des données entre deux dates\n",
    "#cl.evolution(full = True)  # Affiche l'évolution des données de la base\n",
    "# cl.evolution(max_graph=10)  # Affiche l'évolution des données avec un maximum de 10 graphiques\n",
    "cl.evolution(df, max_graph=2)  # Affiche l'évolution des données du DataFrame, se limiter à deux graphs"
   ]
  },
  {
   "cell_type": "markdown",
   "id": "85533639",
   "metadata": {},
   "source": [
    "---\n",
    "### Pour activer les sugestions et parametres des fonction #resumer, #graph_desc, #evolution, utiliser la classe SyntheseBase"
   ]
  },
  {
   "cell_type": "code",
   "execution_count": null,
   "id": "726acd26",
   "metadata": {},
   "outputs": [],
   "source": [
    "from dengsurvab.analytics import SyntheseBase as snt # Importation de la classe SyntheseBase pour l'analyse des données\n",
    "# snt = SyntheseBase(cl)  # Initialisation de la classe SyntheseBase\n",
    "snt = snt(cl)\n",
    "# Pour activer les suggestions et paramètres des fonctions #resumer, #graph_desc, #evolution, utiliser la classe SyntheseBase"
   ]
  },
  {
   "cell_type": "code",
   "execution_count": null,
   "id": "1fbf68ed",
   "metadata": {},
   "outputs": [],
   "source": []
  },
  {
   "cell_type": "code",
   "execution_count": null,
   "id": "09929795",
   "metadata": {},
   "outputs": [],
   "source": [
    "help(snt)  # Affiche l'aide de l'objet cl"
   ]
  },
  {
   "cell_type": "code",
   "execution_count": null,
   "id": "7a1ad0cb",
   "metadata": {},
   "outputs": [],
   "source": [
    "snt.evolution(df, max_graph=2)  # Enregistre les graphiques descriptifs dans un répertoire spécifique"
   ]
  },
  {
   "cell_type": "markdown",
   "id": "e6910a17",
   "metadata": {},
   "source": [
    "---\n",
    "### Les alertes "
   ]
  },
  {
   "cell_type": "code",
   "execution_count": null,
   "id": "4450cca4",
   "metadata": {},
   "outputs": [],
   "source": [
    "#cl.verifier_alertes(date_debut=\"2025-01-01\", date_fin=\"2025-07-11\")  # Vérifie les alertes existantes dans la base de données\n",
    "# cette necessite une authentification préalable"
   ]
  },
  {
   "cell_type": "code",
   "execution_count": null,
   "id": "2f625a13",
   "metadata": {},
   "outputs": [],
   "source": [
    "cl.get_alertes() # Récupère les alertes existantes dans la base de données"
   ]
  },
  {
   "cell_type": "code",
   "execution_count": null,
   "id": "76659f0b",
   "metadata": {},
   "outputs": [],
   "source": [
    "cl.alertes() # Récupère les alertes existantes dans la base de données"
   ]
  },
  {
   "cell_type": "code",
   "execution_count": null,
   "id": "87b30fc3",
   "metadata": {},
   "outputs": [],
   "source": [
    "#cl.configurer_seuils() # Configure les seuils d'alerte pour les variables de la base de données\n",
    "# cl.configurer_seuils(variable=\"variable_name\", seuil_min=0, seuil_max\n",
    "# cl.configurer_seuils(variable=\"variable_name\", seuil_min=0, seuil_max=100)  # Configure les seuils d'alerte pour une variable spécifique"
   ]
  },
  {
   "cell_type": "markdown",
   "id": "2bada037",
   "metadata": {},
   "source": [
    "---\n",
    "#### #Les données specifiques\n"
   ]
  },
  {
   "cell_type": "code",
   "execution_count": null,
   "id": "3e30ec78",
   "metadata": {},
   "outputs": [],
   "source": [
    "cl.get_cas_dengue()  # Récupère les cas de dengue existants dans la base de données"
   ]
  },
  {
   "cell_type": "code",
   "execution_count": null,
   "id": "b330a47b",
   "metadata": {},
   "outputs": [],
   "source": [
    "cl.get_taux_hospitalisation(date_debut=\"2025-01-01\", date_fin=\"2025-07-11\")  # Récupère les taux d'hospitalisation existants dans la base de données\n",
    "# cl.get_taux_hospitalisation(date_debut=\"2025-01-01\", date_fin=\"2025-07-11\")  # Récupère les taux d'hospitalisation existants dans la base de données"
   ]
  },
  {
   "cell_type": "code",
   "execution_count": null,
   "id": "3e00b041",
   "metadata": {},
   "outputs": [],
   "source": [
    "cl.get_taux_letalite(date_debut=\"2025-01-01\", date_fin=\"2025-07-11\")  # Récupère les taux de létalité existants dans la base de données\n",
    "# cl.get_taux_letalite(date_debut=\"2025-01-01\", date_fin=\"2025-07-11\")  # Récupère les taux de létalité existants dans la base de données"
   ]
  },
  {
   "cell_type": "code",
   "execution_count": null,
   "id": "7ffbd2a4",
   "metadata": {},
   "outputs": [],
   "source": [
    "cl.get_taux_positivite(date_debut=\"2025-01-01\", date_fin=\"2025-07-11\")  # Récupère les taux de positivité existants dans la base de données"
   ]
  },
  {
   "cell_type": "markdown",
   "id": "f615b607",
   "metadata": {},
   "source": [
    "---\n",
    "#### #Sauvegarder des données"
   ]
  },
  {
   "cell_type": "code",
   "execution_count": null,
   "id": "a51d05c9",
   "metadata": {},
   "outputs": [],
   "source": [
    "cl.save_to_file(date_debut=\"2025-01-01\", date_fin=\"2025-07-11\", filepath=\"path/to/save/dir\")  # Enregistre les données du DataFrame dans un fichier CSV"
   ]
  },
  {
   "cell_type": "code",
   "execution_count": null,
   "id": "bb526221",
   "metadata": {},
   "outputs": [],
   "source": [
    "cl.alertes_to_file(date_debut=\"2025-01-01\", date_fin=\"2025-07-11\", filepath=\"path/to/save/dir\")  # Enregistre les alertes dans un fichier CSV\n",
    "# cl.alertes_to_file(filepath=\"path/to/save/dir\")  # Enregistre les alertes dans un fichier CSV"
   ]
  },
  {
   "cell_type": "markdown",
   "id": "eea0c1b0",
   "metadata": {},
   "source": [
    "---\n",
    "#### Le compte utilisateur"
   ]
  },
  {
   "cell_type": "code",
   "execution_count": null,
   "id": "a6734aae",
   "metadata": {},
   "outputs": [],
   "source": [
    "cl.get_profile()  # Récupère le profil de l'utilisateur connecté\n",
    "# cette fonction est utile pour vérifier les informations de l'utilisateur connecté, telles que son nom, son adresse e-mail, etc.\n"
   ]
  },
  {
   "cell_type": "code",
   "execution_count": null,
   "id": "da32ed1d",
   "metadata": {},
   "outputs": [],
   "source": [
    "cl.update_profile(name=\"New Name\", email=\"votre mail\")  # Met à jour le profil de l'utilisateur connecté\n",
    "# cl.update_profile(name=\"New Name\", email=\"votre mail\", password=\"new_password\")  # Met à jour le profil de l'utilisateur connecté avec un nouveau mot de passe\n"
   ]
  },
  {
   "cell_type": "code",
   "execution_count": null,
   "id": "173f036d",
   "metadata": {},
   "outputs": [],
   "source": [
    "cl.logout()  # Déconnecte l'utilisateur connecté\n",
    "# Cette fonction est utile pour se déconnecter de la plateforme et éviter les problèmes de sécurité"
   ]
  },
  {
   "cell_type": "markdown",
   "id": "7b060fe8",
   "metadata": {},
   "source": [
    "---\n",
    "---"
   ]
  }
 ],
 "metadata": {
  "kernelspec": {
   "display_name": "data_analyse_env",
   "language": "python",
   "name": "python3"
  },
  "language_info": {
   "codemirror_mode": {
    "name": "ipython",
    "version": 3
   },
   "file_extension": ".py",
   "mimetype": "text/x-python",
   "name": "python",
   "nbconvert_exporter": "python",
   "pygments_lexer": "ipython3",
   "version": "3.12.5"
  }
 },
 "nbformat": 4,
 "nbformat_minor": 5
}
